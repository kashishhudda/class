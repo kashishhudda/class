{
  "nbformat": 4,
  "nbformat_minor": 0,
  "metadata": {
    "colab": {
      "provenance": []
    },
    "kernelspec": {
      "name": "python3",
      "display_name": "Python 3"
    },
    "language_info": {
      "name": "python"
    }
  },
  "cells": [
    {
      "cell_type": "markdown",
      "source": [
        "1. Problem Statement 1: Create a Constructor for a Person\n",
        "\n",
        "Write a JavaScript function constructor named Person that takes two parameters, name, and age, and Add a\n",
        "method to the prototype to display name and age. Then, create two instances of Person and display their\n",
        "names and ages."
      ],
      "metadata": {
        "id": "NFWZkNjR76I1"
      }
    },
    {
      "cell_type": "code",
      "source": [
        "function Person(name, age) {\n",
        "  this.name = name;\n",
        "  this.age = age;\n",
        "}\n",
        "Person.prototype.display = function() {\n",
        "  console.log(`Name: ${this.name}, Age: ${this.age}`);\n",
        "};\n",
        "\n",
        "const person1 = new Person(\"Alice\", 28);\n",
        "const person2 = new Person(\"Bob\", 35);\n",
        "\n",
        "person1.display();\n",
        "person2.display();\n"
      ],
      "metadata": {
        "id": "6TSbxAd_8Z-0"
      },
      "execution_count": null,
      "outputs": []
    },
    {
      "cell_type": "markdown",
      "source": [
        "2. Problem Statement 2: Implement a Bank Account\n",
        "\n",
        "Create a constructor function named BankAccount that initializes a bank account with an initial balance.\n",
        "Include methods for depositing and withdrawing money from the account. Write code to demonstrate these\n",
        "operations on a bank account object."
      ],
      "metadata": {
        "id": "hy4ejuPr77vV"
      }
    },
    {
      "cell_type": "code",
      "source": [
        "function BankAccount(balance) {\n",
        "  this.balance = balance;\n",
        "}\n",
        "BankAccount.prototype.deposit = function(amount) {\n",
        "  this.balance += amount;\n",
        "  console.log(`Deposited: ${amount}`);\n",
        "};\n",
        "BankAccount.prototype.withdraw = function(amount) {\n",
        "  if (amount <= this.balance) {\n",
        "    this.balance -= amount;\n",
        "    console.log(`Withdrew: ${amount}`);\n",
        "  } else {\n",
        "    console.log(\"Insufficient balance\");\n",
        "  }\n",
        "};\n",
        "BankAccount.prototype.getBalance = function() {\n",
        "  return this.balance;\n",
        "};\n",
        "\n",
        "const myAccount = new BankAccount(1000);\n",
        "myAccount.deposit(500);\n",
        "myAccount.withdraw(200);\n",
        "console.log(\"Balance:\", myAccount.getBalance());\n"
      ],
      "metadata": {
        "id": "AREEwjyI8baJ"
      },
      "execution_count": null,
      "outputs": []
    },
    {
      "cell_type": "markdown",
      "source": [
        "3. Problem Statement 3: Create a Constructor for a Book\n",
        "\n",
        "Design a constructor function called Book that takes title and author as parameters. Add a method to the\n",
        "prototype of the Book that displays the book's information. Create at least two book instances and display their\n",
        "\n",
        "information."
      ],
      "metadata": {
        "id": "1gtH01ZJ7_Gl"
      }
    },
    {
      "cell_type": "code",
      "source": [
        "function Book(title, author) {\n",
        "  this.title = title;\n",
        "  this.author = author;\n",
        "}\n",
        "Book.prototype.display = function() {\n",
        "  console.log(`Title: ${this.title}, Author: ${this.author}`);\n",
        "};\n",
        "\n",
        "const book1 = new Book(\"1984\", \"George Orwell\");\n",
        "const book2 = new Book(\"Brave New World\", \"Aldous Huxley\");\n",
        "book1.display();\n",
        "book2.display();\n"
      ],
      "metadata": {
        "id": "l62HrX7s8glH"
      },
      "execution_count": null,
      "outputs": []
    },
    {
      "cell_type": "markdown",
      "source": [
        "4. Problem Statement 4: Implement Task 1 using Class.\n",
        "\n",
        "Design a JavaScript class called Person with properties for name and age. Implement a method to display the\n",
        "person's name and age. Then, create instances of Person and display their information"
      ],
      "metadata": {
        "id": "PxUJ9SiZ8DGI"
      }
    },
    {
      "cell_type": "code",
      "source": [
        "class Person {\n",
        "  constructor(name, age) {\n",
        "    this.name = name;\n",
        "    this.age = age;\n",
        "  }\n",
        "  display() {\n",
        "    console.log(`Name: ${this.name}, Age: ${this.age}`);\n",
        "  }\n",
        "}\n",
        "\n",
        "const p1 = new Person(\"Charlie\", 30);\n",
        "const p2 = new Person(\"Diana\", 25);\n",
        "p1.display();\n",
        "p2.display();\n"
      ],
      "metadata": {
        "id": "R4j0G4gj8jJW"
      },
      "execution_count": null,
      "outputs": []
    },
    {
      "cell_type": "markdown",
      "source": [
        "5. Problem Statement 5: Implement a Calculator Class\n",
        "\n",
        "Create a class called Calculator that initializes two values value1 and value2 to store numbers. Add methods for\n",
        "add, subtract, multiply, and divide. Perform and show operations."
      ],
      "metadata": {
        "id": "4XRsWb458IC2"
      }
    },
    {
      "cell_type": "code",
      "source": [
        "class Calculator {\n",
        "  constructor(value1, value2) {\n",
        "    this.value1 = value1;\n",
        "    this.value2 = value2;\n",
        "  }\n",
        "  add() {\n",
        "    return this.value1 + this.value2;\n",
        "  }\n",
        "  subtract() {\n",
        "    return this.value1 - this.value2;\n",
        "  }\n",
        "  multiply() {\n",
        "    return this.value1 * this.value2;\n",
        "  }\n",
        "  divide() {\n",
        "    return this.value2 !== 0 ? this.value1 / this.value2 : \"Cannot divide by zero\";\n",
        "  }\n",
        "}\n",
        "\n",
        "const calc = new Calculator(12, 4);\n",
        "console.log(\"Add:\", calc.add());\n",
        "console.log(\"Subtract:\", calc.subtract());\n",
        "console.log(\"Multiply:\", calc.multiply());\n",
        "console.log(\"Divide:\", calc.divide());\n"
      ],
      "metadata": {
        "id": "akg05bZZ8l6F"
      },
      "execution_count": null,
      "outputs": []
    },
    {
      "cell_type": "markdown",
      "source": [
        "6. Problem Statement 6: Design a Class for a Geometric Shape\n",
        "\n",
        "Design a class called Shape that can represent various geometric shapes. Implement subclasses for specific\n",
        "shapes like Circle, Rectangle, and RightTriangle. Each subclass should have properties of that shape (e.g..\n",
        "Width, height for a rectangle) and methods for calculating the area and perimeter of the shape. Create\n",
        "instances of these shapes and calculate their areas and perimeters."
      ],
      "metadata": {
        "id": "u7BT3hpa8KvF"
      }
    },
    {
      "cell_type": "code",
      "source": [
        "class Shape {}\n",
        "\n",
        "class Circle extends Shape {\n",
        "  constructor(radius) {\n",
        "    super();\n",
        "    this.radius = radius;\n",
        "  }\n",
        "  area() {\n",
        "    return Math.PI * this.radius * this.radius;\n",
        "  }\n",
        "  perimeter() {\n",
        "    return 2 * Math.PI * this.radius;\n",
        "  }\n",
        "}\n",
        "\n",
        "class Rectangle extends Shape {\n",
        "  constructor(width, height) {\n",
        "    super();\n",
        "    this.width = width;\n",
        "    this.height = height;\n",
        "  }\n",
        "  area() {\n",
        "    return this.width * this.height;\n",
        "  }\n",
        "  perimeter() {\n",
        "    return 2 * (this.width + this.height);\n",
        "  }\n",
        "}\n",
        "\n",
        "class RightTriangle extends Shape {\n",
        "  constructor(base, height) {\n",
        "    super();\n",
        "    this.base = base;\n",
        "    this.height = height;\n",
        "  }\n",
        "  area() {\n",
        "    return 0.5 * this.base * this.height;\n",
        "  }\n",
        "  perimeter() {\n",
        "    const hypotenuse = Math.sqrt(this.base**2 + this.height**2);\n",
        "    return this.base + this.height + hypotenuse;\n",
        "  }\n",
        "}\n",
        "\n",
        "const circle = new Circle(3);\n",
        "const rect = new Rectangle(5, 10);\n",
        "const tri = new RightTriangle(6, 8);\n",
        "\n",
        "console.log(\"Circle area:\", circle.area(), \"Circle perimeter:\", circle.perimeter());\n",
        "console.log(\"Rectangle area:\", rect.area(), \"Rectangle perimeter:\", rect.perimeter());\n",
        "console.log(\"RightTriangle area:\", tri.area(), \"RightTriangle perimeter:\", tri.perimeter());\n"
      ],
      "metadata": {
        "id": "9bMSGhw18qNd"
      },
      "execution_count": null,
      "outputs": []
    },
    {
      "cell_type": "markdown",
      "source": [
        "7. Problem Statement 7: Implement a Library System\n",
        "\n",
        "Create a class called Library that can manage a collection of books. Each book should be represented as an\n",
        "instance of a Book class (with properties like title, author, and availability). Implement methods in the Library\n",
        "class to add books, check out books, and return books. Keep track of the books available."
      ],
      "metadata": {
        "id": "PcGCLitu8N9M"
      }
    },
    {
      "cell_type": "code",
      "execution_count": null,
      "metadata": {
        "id": "1pGNTtM472pt"
      },
      "outputs": [],
      "source": [
        "class Book {\n",
        "  constructor(title, author) {\n",
        "    this.title = title;\n",
        "    this.author = author;\n",
        "    this.available = true;\n",
        "  }\n",
        "}\n",
        "\n",
        "class Library {\n",
        "  constructor() {\n",
        "    this.books = [];\n",
        "  }\n",
        "  addBook(book) {\n",
        "    this.books.push(book);\n",
        "  }\n",
        "  checkoutBook(title) {\n",
        "    const book = this.books.find(b => b.title === title && b.available);\n",
        "    if (book) {\n",
        "      book.available = false;\n",
        "      console.log(`Checked out: ${book.title}`);\n",
        "    } else {\n",
        "      console.log(\"Book not available\");\n",
        "    }\n",
        "  }\n",
        "  returnBook(title) {\n",
        "    const book = this.books.find(b => b.title === title && !b.available);\n",
        "    if (book) {\n",
        "      book.available = true;\n",
        "      console.log(`Returned: ${book.title}`);\n",
        "    } else {\n",
        "      console.log(\"Book was not checked out\");\n",
        "    }\n",
        "  }\n",
        "  listAvailableBooks() {\n",
        "    return this.books.filter(b => b.available);\n",
        "  }\n",
        "}\n",
        "\n",
        "const lib = new Library();\n",
        "const b1 = new Book(\"The Hobbit\", \"J.R.R. Tolkien\");\n",
        "const b2 = new Book(\"Dune\", \"Frank Herbert\");\n",
        "lib.addBook(b1);\n",
        "lib.addBook(b2);\n",
        "lib.checkoutBook(\"The Hobbit\");\n",
        "console.log(\"Available Books:\", lib.listAvailableBooks());\n",
        "lib.returnBook(\"The Hobbit\");\n",
        "console.log(\"Available Books:\", lib.listAvailableBooks());\n"
      ]
    }
  ]
}